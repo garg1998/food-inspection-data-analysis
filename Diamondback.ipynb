{
  "nbformat": 4,
  "nbformat_minor": 0,
  "metadata": {
    "colab": {
      "provenance": []
    },
    "kernelspec": {
      "name": "python3",
      "display_name": "Python 3"
    },
    "language_info": {
      "name": "python"
    }
  },
  "cells": [
    {
      "cell_type": "code",
      "execution_count": null,
      "metadata": {
        "id": "FUcBVQ0q8mIm"
      },
      "outputs": [],
      "source": [
        "# Importing libraries\n",
        "import pandas as pd\n",
        "import numpy as np\n",
        "import matplotlib\n",
        "import matplotlib.pyplot as plt\n",
        "import seaborn as sns\n",
        "\n",
        "import warnings\n",
        "warnings.filterwarnings('ignore')"
      ]
    },
    {
      "cell_type": "code",
      "source": [
        "#reading data\n",
        "df=pd.read_csv('/data.csv')\n",
        "df.head(10)"
      ],
      "metadata": {
        "colab": {
          "base_uri": "https://localhost:8080/",
          "height": 821
        },
        "id": "5I2CQBQI9ohW",
        "outputId": "ee04dae1-4300-46e0-eb13-e3e61c020438"
      },
      "execution_count": null,
      "outputs": [
        {
          "output_type": "execute_result",
          "data": {
            "text/plain": [
              "   Establishment_id                         Name            Category  \\\n",
              "0              1146              PIZZA HUT 23538   Fast Food - Chain   \n",
              "1              2196          SEVEN ELEVEN 11664C   Convenience Store   \n",
              "2               342           COLLEGE PARK DINER          Restaurant   \n",
              "3              2228          SEVEN ELEVEN 11642B   Convenience Store   \n",
              "4               730                 JASON'S DELI   Fast Food - Chain   \n",
              "5               329  CHIPOTLE MEXICAN GRILL 1786   Fast Food - Chain   \n",
              "6              2139      POTBELLY SANDWICH WORKS           Fast Food   \n",
              "7              6345                 Frutta Bowls          Restaurant   \n",
              "8              1605     UMCP - PANDA EXPRESS 802  College/University   \n",
              "9              8268       TROPICAL SMOOTHIE CAFE           Carry-out   \n",
              "\n",
              "   Inspection_date                   Inspection_results          City State  \\\n",
              "0   5/29/2020 0:00  Non-Compliant - Violations Observed  COLLEGE PARK    MD   \n",
              "1    7/9/2020 0:00    Compliance Schedule - Outstanding  COLLEGE PARK    MD   \n",
              "2   7/17/2020 0:00                               ------  COLLEGE PARK    MD   \n",
              "3   3/16/2020 0:00  Non-Compliant - Violations Observed  COLLEGE PARK    MD   \n",
              "4   3/13/2020 0:00    Compliance Schedule - Outstanding  COLLEGE PARK    MD   \n",
              "5   3/16/2020 0:00           Compliant - No Health Risk  COLLEGE PARK    MD   \n",
              "6  10/21/2019 0:00      Compliance Schedule - Completed  COLLEGE PARK    MD   \n",
              "7  10/18/2019 0:00  Non-Compliant - Violations Observed  COLLEGE PARK    MD   \n",
              "8  10/17/2019 0:00  Non-Compliant - Violations Observed  COLLEGE PARK    MD   \n",
              "9  10/21/2019 0:00    Compliance Schedule - Outstanding  COLLEGE PARK    MD   \n",
              "\n",
              "     Zip       Address_line_1 Address_line_2  ...  \\\n",
              "0  20740   9015 BALTIMORE AVE         ------  ...   \n",
              "1  20740         4404 KNOX RD         ------  ...   \n",
              "2  20740   9206 BALTIMORE AVE         ------  ...   \n",
              "3  20740     4921 EDGEWOOD RD         ------  ...   \n",
              "4  20740   7356 BALTIMORE AVE         ------  ...   \n",
              "5  20740  10250 BALTIMORE AVE         ------  ...   \n",
              "6  20740  10260 BALTIMORE AVE              H  ...   \n",
              "7  20740   8150 BALTIMORE AVE              B  ...   \n",
              "8  20742       3841 CAMPUS DR         ------  ...   \n",
              "9  20740  10260 BALTIMORE AVE         ------  ...   \n",
              "\n",
              "  Hot_and_cold_running_water_provided Proper_sewage_disposal  \\\n",
              "0                       In Compliance          In Compliance   \n",
              "1                       In Compliance          In Compliance   \n",
              "2                       In Compliance          In Compliance   \n",
              "3                       In Compliance          In Compliance   \n",
              "4                       In Compliance          In Compliance   \n",
              "5                       In Compliance          In Compliance   \n",
              "6                       In Compliance          In Compliance   \n",
              "7                       In Compliance          In Compliance   \n",
              "8                       In Compliance          In Compliance   \n",
              "9                       In Compliance          In Compliance   \n",
              "\n",
              "  No_bare_hand_contact Adequate_hand_washing_facilities Rodent_and_insects  \\\n",
              "0        In Compliance                    In Compliance      In Compliance   \n",
              "1        In Compliance                    In Compliance      In Compliance   \n",
              "2        In Compliance                    In Compliance      In Compliance   \n",
              "3        In Compliance                    In Compliance      In Compliance   \n",
              "4        In Compliance                    In Compliance      In Compliance   \n",
              "5        In Compliance                    In Compliance      In Compliance   \n",
              "6        In Compliance                    In Compliance      In Compliance   \n",
              "7        In Compliance                    In Compliance  Out of Compliance   \n",
              "8        In Compliance                    In Compliance      In Compliance   \n",
              "9        In Compliance                    In Compliance      In Compliance   \n",
              "\n",
              "  Food_contact_surfaces_and_equipment      Inspection_type  \\\n",
              "0                       In Compliance  Change Of Ownership   \n",
              "1                       In Compliance        Re-inspection   \n",
              "2                       In Compliance                  NaN   \n",
              "3                       In Compliance        Comprehensive   \n",
              "4                       In Compliance        Re-inspection   \n",
              "5                       In Compliance           Monitoring   \n",
              "6                       In Compliance        Re-inspection   \n",
              "7                       In Compliance        Comprehensive   \n",
              "8                       In Compliance        Comprehensive   \n",
              "9                       In Compliance        Re-inspection   \n",
              "\n",
              "                 Owner                 Type                      Location  \n",
              "0  LUIS IBARGUENGOYTIA  Food Establishments  POINT (-76.931327 38.999878)  \n",
              "1         RUCHEE JUDGE  Food Establishments  POINT (-76.938659 38.980959)  \n",
              "2            Adel RIAD  Food Establishments  POINT (-76.929936 39.006215)  \n",
              "3          EABA YADOTA  Food Establishments  POINT (-76.922405 39.015982)  \n",
              "4     JOE TORTORICE JR  Food Establishments  POINT (-76.937981 38.980544)  \n",
              "5   MONTGOMERY F MORAN  Food Establishments  POINT (-76.924414 39.022738)  \n",
              "6      BASYE MOSKOWITZ  Food Establishments  POINT (-76.924545 39.022579)  \n",
              "7     ROBERT CALAVETTA  Food Establishments  POINT (-76.933738 38.991271)  \n",
              "8         PEGGY CHERNG  Food Establishments  POINT (-76.948226 38.984828)  \n",
              "9          JIGNA PATEL  Food Establishments  POINT (-76.924545 39.022579)  \n",
              "\n",
              "[10 rows x 29 columns]"
            ],
            "text/html": [
              "\n",
              "  <div id=\"df-eae0ee0a-d310-403c-a5df-a30a046079ea\">\n",
              "    <div class=\"colab-df-container\">\n",
              "      <div>\n",
              "<style scoped>\n",
              "    .dataframe tbody tr th:only-of-type {\n",
              "        vertical-align: middle;\n",
              "    }\n",
              "\n",
              "    .dataframe tbody tr th {\n",
              "        vertical-align: top;\n",
              "    }\n",
              "\n",
              "    .dataframe thead th {\n",
              "        text-align: right;\n",
              "    }\n",
              "</style>\n",
              "<table border=\"1\" class=\"dataframe\">\n",
              "  <thead>\n",
              "    <tr style=\"text-align: right;\">\n",
              "      <th></th>\n",
              "      <th>Establishment_id</th>\n",
              "      <th>Name</th>\n",
              "      <th>Category</th>\n",
              "      <th>Inspection_date</th>\n",
              "      <th>Inspection_results</th>\n",
              "      <th>City</th>\n",
              "      <th>State</th>\n",
              "      <th>Zip</th>\n",
              "      <th>Address_line_1</th>\n",
              "      <th>Address_line_2</th>\n",
              "      <th>...</th>\n",
              "      <th>Hot_and_cold_running_water_provided</th>\n",
              "      <th>Proper_sewage_disposal</th>\n",
              "      <th>No_bare_hand_contact</th>\n",
              "      <th>Adequate_hand_washing_facilities</th>\n",
              "      <th>Rodent_and_insects</th>\n",
              "      <th>Food_contact_surfaces_and_equipment</th>\n",
              "      <th>Inspection_type</th>\n",
              "      <th>Owner</th>\n",
              "      <th>Type</th>\n",
              "      <th>Location</th>\n",
              "    </tr>\n",
              "  </thead>\n",
              "  <tbody>\n",
              "    <tr>\n",
              "      <th>0</th>\n",
              "      <td>1146</td>\n",
              "      <td>PIZZA HUT 23538</td>\n",
              "      <td>Fast Food - Chain</td>\n",
              "      <td>5/29/2020 0:00</td>\n",
              "      <td>Non-Compliant - Violations Observed</td>\n",
              "      <td>COLLEGE PARK</td>\n",
              "      <td>MD</td>\n",
              "      <td>20740</td>\n",
              "      <td>9015 BALTIMORE AVE</td>\n",
              "      <td>------</td>\n",
              "      <td>...</td>\n",
              "      <td>In Compliance</td>\n",
              "      <td>In Compliance</td>\n",
              "      <td>In Compliance</td>\n",
              "      <td>In Compliance</td>\n",
              "      <td>In Compliance</td>\n",
              "      <td>In Compliance</td>\n",
              "      <td>Change Of Ownership</td>\n",
              "      <td>LUIS IBARGUENGOYTIA</td>\n",
              "      <td>Food Establishments</td>\n",
              "      <td>POINT (-76.931327 38.999878)</td>\n",
              "    </tr>\n",
              "    <tr>\n",
              "      <th>1</th>\n",
              "      <td>2196</td>\n",
              "      <td>SEVEN ELEVEN 11664C</td>\n",
              "      <td>Convenience Store</td>\n",
              "      <td>7/9/2020 0:00</td>\n",
              "      <td>Compliance Schedule - Outstanding</td>\n",
              "      <td>COLLEGE PARK</td>\n",
              "      <td>MD</td>\n",
              "      <td>20740</td>\n",
              "      <td>4404 KNOX RD</td>\n",
              "      <td>------</td>\n",
              "      <td>...</td>\n",
              "      <td>In Compliance</td>\n",
              "      <td>In Compliance</td>\n",
              "      <td>In Compliance</td>\n",
              "      <td>In Compliance</td>\n",
              "      <td>In Compliance</td>\n",
              "      <td>In Compliance</td>\n",
              "      <td>Re-inspection</td>\n",
              "      <td>RUCHEE JUDGE</td>\n",
              "      <td>Food Establishments</td>\n",
              "      <td>POINT (-76.938659 38.980959)</td>\n",
              "    </tr>\n",
              "    <tr>\n",
              "      <th>2</th>\n",
              "      <td>342</td>\n",
              "      <td>COLLEGE PARK DINER</td>\n",
              "      <td>Restaurant</td>\n",
              "      <td>7/17/2020 0:00</td>\n",
              "      <td>------</td>\n",
              "      <td>COLLEGE PARK</td>\n",
              "      <td>MD</td>\n",
              "      <td>20740</td>\n",
              "      <td>9206 BALTIMORE AVE</td>\n",
              "      <td>------</td>\n",
              "      <td>...</td>\n",
              "      <td>In Compliance</td>\n",
              "      <td>In Compliance</td>\n",
              "      <td>In Compliance</td>\n",
              "      <td>In Compliance</td>\n",
              "      <td>In Compliance</td>\n",
              "      <td>In Compliance</td>\n",
              "      <td>NaN</td>\n",
              "      <td>Adel RIAD</td>\n",
              "      <td>Food Establishments</td>\n",
              "      <td>POINT (-76.929936 39.006215)</td>\n",
              "    </tr>\n",
              "    <tr>\n",
              "      <th>3</th>\n",
              "      <td>2228</td>\n",
              "      <td>SEVEN ELEVEN 11642B</td>\n",
              "      <td>Convenience Store</td>\n",
              "      <td>3/16/2020 0:00</td>\n",
              "      <td>Non-Compliant - Violations Observed</td>\n",
              "      <td>COLLEGE PARK</td>\n",
              "      <td>MD</td>\n",
              "      <td>20740</td>\n",
              "      <td>4921 EDGEWOOD RD</td>\n",
              "      <td>------</td>\n",
              "      <td>...</td>\n",
              "      <td>In Compliance</td>\n",
              "      <td>In Compliance</td>\n",
              "      <td>In Compliance</td>\n",
              "      <td>In Compliance</td>\n",
              "      <td>In Compliance</td>\n",
              "      <td>In Compliance</td>\n",
              "      <td>Comprehensive</td>\n",
              "      <td>EABA YADOTA</td>\n",
              "      <td>Food Establishments</td>\n",
              "      <td>POINT (-76.922405 39.015982)</td>\n",
              "    </tr>\n",
              "    <tr>\n",
              "      <th>4</th>\n",
              "      <td>730</td>\n",
              "      <td>JASON'S DELI</td>\n",
              "      <td>Fast Food - Chain</td>\n",
              "      <td>3/13/2020 0:00</td>\n",
              "      <td>Compliance Schedule - Outstanding</td>\n",
              "      <td>COLLEGE PARK</td>\n",
              "      <td>MD</td>\n",
              "      <td>20740</td>\n",
              "      <td>7356 BALTIMORE AVE</td>\n",
              "      <td>------</td>\n",
              "      <td>...</td>\n",
              "      <td>In Compliance</td>\n",
              "      <td>In Compliance</td>\n",
              "      <td>In Compliance</td>\n",
              "      <td>In Compliance</td>\n",
              "      <td>In Compliance</td>\n",
              "      <td>In Compliance</td>\n",
              "      <td>Re-inspection</td>\n",
              "      <td>JOE TORTORICE JR</td>\n",
              "      <td>Food Establishments</td>\n",
              "      <td>POINT (-76.937981 38.980544)</td>\n",
              "    </tr>\n",
              "    <tr>\n",
              "      <th>5</th>\n",
              "      <td>329</td>\n",
              "      <td>CHIPOTLE MEXICAN GRILL 1786</td>\n",
              "      <td>Fast Food - Chain</td>\n",
              "      <td>3/16/2020 0:00</td>\n",
              "      <td>Compliant - No Health Risk</td>\n",
              "      <td>COLLEGE PARK</td>\n",
              "      <td>MD</td>\n",
              "      <td>20740</td>\n",
              "      <td>10250 BALTIMORE AVE</td>\n",
              "      <td>------</td>\n",
              "      <td>...</td>\n",
              "      <td>In Compliance</td>\n",
              "      <td>In Compliance</td>\n",
              "      <td>In Compliance</td>\n",
              "      <td>In Compliance</td>\n",
              "      <td>In Compliance</td>\n",
              "      <td>In Compliance</td>\n",
              "      <td>Monitoring</td>\n",
              "      <td>MONTGOMERY F MORAN</td>\n",
              "      <td>Food Establishments</td>\n",
              "      <td>POINT (-76.924414 39.022738)</td>\n",
              "    </tr>\n",
              "    <tr>\n",
              "      <th>6</th>\n",
              "      <td>2139</td>\n",
              "      <td>POTBELLY SANDWICH WORKS</td>\n",
              "      <td>Fast Food</td>\n",
              "      <td>10/21/2019 0:00</td>\n",
              "      <td>Compliance Schedule - Completed</td>\n",
              "      <td>COLLEGE PARK</td>\n",
              "      <td>MD</td>\n",
              "      <td>20740</td>\n",
              "      <td>10260 BALTIMORE AVE</td>\n",
              "      <td>H</td>\n",
              "      <td>...</td>\n",
              "      <td>In Compliance</td>\n",
              "      <td>In Compliance</td>\n",
              "      <td>In Compliance</td>\n",
              "      <td>In Compliance</td>\n",
              "      <td>In Compliance</td>\n",
              "      <td>In Compliance</td>\n",
              "      <td>Re-inspection</td>\n",
              "      <td>BASYE MOSKOWITZ</td>\n",
              "      <td>Food Establishments</td>\n",
              "      <td>POINT (-76.924545 39.022579)</td>\n",
              "    </tr>\n",
              "    <tr>\n",
              "      <th>7</th>\n",
              "      <td>6345</td>\n",
              "      <td>Frutta Bowls</td>\n",
              "      <td>Restaurant</td>\n",
              "      <td>10/18/2019 0:00</td>\n",
              "      <td>Non-Compliant - Violations Observed</td>\n",
              "      <td>COLLEGE PARK</td>\n",
              "      <td>MD</td>\n",
              "      <td>20740</td>\n",
              "      <td>8150 BALTIMORE AVE</td>\n",
              "      <td>B</td>\n",
              "      <td>...</td>\n",
              "      <td>In Compliance</td>\n",
              "      <td>In Compliance</td>\n",
              "      <td>In Compliance</td>\n",
              "      <td>In Compliance</td>\n",
              "      <td>Out of Compliance</td>\n",
              "      <td>In Compliance</td>\n",
              "      <td>Comprehensive</td>\n",
              "      <td>ROBERT CALAVETTA</td>\n",
              "      <td>Food Establishments</td>\n",
              "      <td>POINT (-76.933738 38.991271)</td>\n",
              "    </tr>\n",
              "    <tr>\n",
              "      <th>8</th>\n",
              "      <td>1605</td>\n",
              "      <td>UMCP - PANDA EXPRESS 802</td>\n",
              "      <td>College/University</td>\n",
              "      <td>10/17/2019 0:00</td>\n",
              "      <td>Non-Compliant - Violations Observed</td>\n",
              "      <td>COLLEGE PARK</td>\n",
              "      <td>MD</td>\n",
              "      <td>20742</td>\n",
              "      <td>3841 CAMPUS DR</td>\n",
              "      <td>------</td>\n",
              "      <td>...</td>\n",
              "      <td>In Compliance</td>\n",
              "      <td>In Compliance</td>\n",
              "      <td>In Compliance</td>\n",
              "      <td>In Compliance</td>\n",
              "      <td>In Compliance</td>\n",
              "      <td>In Compliance</td>\n",
              "      <td>Comprehensive</td>\n",
              "      <td>PEGGY CHERNG</td>\n",
              "      <td>Food Establishments</td>\n",
              "      <td>POINT (-76.948226 38.984828)</td>\n",
              "    </tr>\n",
              "    <tr>\n",
              "      <th>9</th>\n",
              "      <td>8268</td>\n",
              "      <td>TROPICAL SMOOTHIE CAFE</td>\n",
              "      <td>Carry-out</td>\n",
              "      <td>10/21/2019 0:00</td>\n",
              "      <td>Compliance Schedule - Outstanding</td>\n",
              "      <td>COLLEGE PARK</td>\n",
              "      <td>MD</td>\n",
              "      <td>20740</td>\n",
              "      <td>10260 BALTIMORE AVE</td>\n",
              "      <td>------</td>\n",
              "      <td>...</td>\n",
              "      <td>In Compliance</td>\n",
              "      <td>In Compliance</td>\n",
              "      <td>In Compliance</td>\n",
              "      <td>In Compliance</td>\n",
              "      <td>In Compliance</td>\n",
              "      <td>In Compliance</td>\n",
              "      <td>Re-inspection</td>\n",
              "      <td>JIGNA PATEL</td>\n",
              "      <td>Food Establishments</td>\n",
              "      <td>POINT (-76.924545 39.022579)</td>\n",
              "    </tr>\n",
              "  </tbody>\n",
              "</table>\n",
              "<p>10 rows × 29 columns</p>\n",
              "</div>\n",
              "      <button class=\"colab-df-convert\" onclick=\"convertToInteractive('df-eae0ee0a-d310-403c-a5df-a30a046079ea')\"\n",
              "              title=\"Convert this dataframe to an interactive table.\"\n",
              "              style=\"display:none;\">\n",
              "        \n",
              "  <svg xmlns=\"http://www.w3.org/2000/svg\" height=\"24px\"viewBox=\"0 0 24 24\"\n",
              "       width=\"24px\">\n",
              "    <path d=\"M0 0h24v24H0V0z\" fill=\"none\"/>\n",
              "    <path d=\"M18.56 5.44l.94 2.06.94-2.06 2.06-.94-2.06-.94-.94-2.06-.94 2.06-2.06.94zm-11 1L8.5 8.5l.94-2.06 2.06-.94-2.06-.94L8.5 2.5l-.94 2.06-2.06.94zm10 10l.94 2.06.94-2.06 2.06-.94-2.06-.94-.94-2.06-.94 2.06-2.06.94z\"/><path d=\"M17.41 7.96l-1.37-1.37c-.4-.4-.92-.59-1.43-.59-.52 0-1.04.2-1.43.59L10.3 9.45l-7.72 7.72c-.78.78-.78 2.05 0 2.83L4 21.41c.39.39.9.59 1.41.59.51 0 1.02-.2 1.41-.59l7.78-7.78 2.81-2.81c.8-.78.8-2.07 0-2.86zM5.41 20L4 18.59l7.72-7.72 1.47 1.35L5.41 20z\"/>\n",
              "  </svg>\n",
              "      </button>\n",
              "      \n",
              "  <style>\n",
              "    .colab-df-container {\n",
              "      display:flex;\n",
              "      flex-wrap:wrap;\n",
              "      gap: 12px;\n",
              "    }\n",
              "\n",
              "    .colab-df-convert {\n",
              "      background-color: #E8F0FE;\n",
              "      border: none;\n",
              "      border-radius: 50%;\n",
              "      cursor: pointer;\n",
              "      display: none;\n",
              "      fill: #1967D2;\n",
              "      height: 32px;\n",
              "      padding: 0 0 0 0;\n",
              "      width: 32px;\n",
              "    }\n",
              "\n",
              "    .colab-df-convert:hover {\n",
              "      background-color: #E2EBFA;\n",
              "      box-shadow: 0px 1px 2px rgba(60, 64, 67, 0.3), 0px 1px 3px 1px rgba(60, 64, 67, 0.15);\n",
              "      fill: #174EA6;\n",
              "    }\n",
              "\n",
              "    [theme=dark] .colab-df-convert {\n",
              "      background-color: #3B4455;\n",
              "      fill: #D2E3FC;\n",
              "    }\n",
              "\n",
              "    [theme=dark] .colab-df-convert:hover {\n",
              "      background-color: #434B5C;\n",
              "      box-shadow: 0px 1px 3px 1px rgba(0, 0, 0, 0.15);\n",
              "      filter: drop-shadow(0px 1px 2px rgba(0, 0, 0, 0.3));\n",
              "      fill: #FFFFFF;\n",
              "    }\n",
              "  </style>\n",
              "\n",
              "      <script>\n",
              "        const buttonEl =\n",
              "          document.querySelector('#df-eae0ee0a-d310-403c-a5df-a30a046079ea button.colab-df-convert');\n",
              "        buttonEl.style.display =\n",
              "          google.colab.kernel.accessAllowed ? 'block' : 'none';\n",
              "\n",
              "        async function convertToInteractive(key) {\n",
              "          const element = document.querySelector('#df-eae0ee0a-d310-403c-a5df-a30a046079ea');\n",
              "          const dataTable =\n",
              "            await google.colab.kernel.invokeFunction('convertToInteractive',\n",
              "                                                     [key], {});\n",
              "          if (!dataTable) return;\n",
              "\n",
              "          const docLinkHtml = 'Like what you see? Visit the ' +\n",
              "            '<a target=\"_blank\" href=https://colab.research.google.com/notebooks/data_table.ipynb>data table notebook</a>'\n",
              "            + ' to learn more about interactive tables.';\n",
              "          element.innerHTML = '';\n",
              "          dataTable['output_type'] = 'display_data';\n",
              "          await google.colab.output.renderOutput(dataTable, element);\n",
              "          const docLink = document.createElement('div');\n",
              "          docLink.innerHTML = docLinkHtml;\n",
              "          element.appendChild(docLink);\n",
              "        }\n",
              "      </script>\n",
              "    </div>\n",
              "  </div>\n",
              "  "
            ]
          },
          "metadata": {},
          "execution_count": 49
        }
      ]
    },
    {
      "cell_type": "code",
      "source": [
        "df.dtypes"
      ],
      "metadata": {
        "colab": {
          "base_uri": "https://localhost:8080/"
        },
        "id": "K8PkwIHw9tLA",
        "outputId": "60ee69dd-4122-4c68-cdee-c6b73f3df108"
      },
      "execution_count": null,
      "outputs": [
        {
          "output_type": "execute_result",
          "data": {
            "text/plain": [
              "Establishment_id                        int64\n",
              "Name                                   object\n",
              "Category                               object\n",
              "Inspection_date                        object\n",
              "Inspection_results                     object\n",
              "City                                   object\n",
              "State                                  object\n",
              "Zip                                     int64\n",
              "Address_line_1                         object\n",
              "Address_line_2                         object\n",
              "Food_from_approved_source              object\n",
              "Food_protected_from_contamination      object\n",
              "Ill_workers_restricted                 object\n",
              "Proper_hand_washing                    object\n",
              "Cooling_time_and_temperature           object\n",
              "Cold_holding_temperature               object\n",
              "Hot_holding_temperature                object\n",
              "Cooking_time_and_temperature           object\n",
              "Reheating_time_and_temperature         object\n",
              "Hot_and_cold_running_water_provided    object\n",
              "Proper_sewage_disposal                 object\n",
              "No_bare_hand_contact                   object\n",
              "Adequate_hand_washing_facilities       object\n",
              "Rodent_and_insects                     object\n",
              "Food_contact_surfaces_and_equipment    object\n",
              "Inspection_type                        object\n",
              "Owner                                  object\n",
              "Type                                   object\n",
              "Location                               object\n",
              "dtype: object"
            ]
          },
          "metadata": {},
          "execution_count": 50
        }
      ]
    },
    {
      "cell_type": "code",
      "source": [
        "#dropping duplucates\n",
        "df.drop_duplicates(inplace=True)"
      ],
      "metadata": {
        "id": "Gm7kpXIv9vTh"
      },
      "execution_count": null,
      "outputs": []
    },
    {
      "cell_type": "code",
      "source": [
        "df.shape"
      ],
      "metadata": {
        "colab": {
          "base_uri": "https://localhost:8080/"
        },
        "id": "I_UC4YPk_jAS",
        "outputId": "2aa1c816-2301-419b-d72c-e81794d9d650"
      },
      "execution_count": null,
      "outputs": [
        {
          "output_type": "execute_result",
          "data": {
            "text/plain": [
              "(2569, 29)"
            ]
          },
          "metadata": {},
          "execution_count": 52
        }
      ]
    },
    {
      "cell_type": "code",
      "source": [
        "df.isnull().sum()"
      ],
      "metadata": {
        "colab": {
          "base_uri": "https://localhost:8080/"
        },
        "id": "bi8_Sc4d-vo5",
        "outputId": "c152d5df-9cbe-4689-ca4f-d117a0f8ee0d"
      },
      "execution_count": null,
      "outputs": [
        {
          "output_type": "execute_result",
          "data": {
            "text/plain": [
              "Establishment_id                         0\n",
              "Name                                     0\n",
              "Category                                47\n",
              "Inspection_date                          0\n",
              "Inspection_results                       0\n",
              "City                                     0\n",
              "State                                    0\n",
              "Zip                                      0\n",
              "Address_line_1                           0\n",
              "Address_line_2                           0\n",
              "Food_from_approved_source                0\n",
              "Food_protected_from_contamination        0\n",
              "Ill_workers_restricted                   0\n",
              "Proper_hand_washing                      0\n",
              "Cooling_time_and_temperature             0\n",
              "Cold_holding_temperature                 0\n",
              "Hot_holding_temperature                  0\n",
              "Cooking_time_and_temperature             0\n",
              "Reheating_time_and_temperature           0\n",
              "Hot_and_cold_running_water_provided      0\n",
              "Proper_sewage_disposal                   0\n",
              "No_bare_hand_contact                     0\n",
              "Adequate_hand_washing_facilities         0\n",
              "Rodent_and_insects                       0\n",
              "Food_contact_surfaces_and_equipment      0\n",
              "Inspection_type                        205\n",
              "Owner                                    7\n",
              "Type                                     0\n",
              "Location                                 1\n",
              "dtype: int64"
            ]
          },
          "metadata": {},
          "execution_count": 53
        }
      ]
    },
    {
      "cell_type": "code",
      "source": [
        "df['Inspection_type'].unique()"
      ],
      "metadata": {
        "colab": {
          "base_uri": "https://localhost:8080/"
        },
        "id": "fVZWslznZkbc",
        "outputId": "a3a1675b-0cc8-46ee-a437-20adaf324d10"
      },
      "execution_count": null,
      "outputs": [
        {
          "output_type": "execute_result",
          "data": {
            "text/plain": [
              "array(['Change Of Ownership', 'Re-inspection', nan, 'Comprehensive',\n",
              "       'Monitoring', 'Pre-Opening Inspection', 'Food Complaint',\n",
              "       'Single Foodborne Illness', 'Other', 'Fire / Natural Disaster',\n",
              "       'Re-inspection Phone/ Verification', 'Foodborne Outbreak'],\n",
              "      dtype=object)"
            ]
          },
          "metadata": {},
          "execution_count": 54
        }
      ]
    },
    {
      "cell_type": "code",
      "source": [
        "df=df.replace('------',np.nan)\n",
        "df=df.replace('nan',np.nan)"
      ],
      "metadata": {
        "id": "AJdil9vnKoPY"
      },
      "execution_count": null,
      "outputs": []
    },
    {
      "cell_type": "code",
      "source": [
        "df['City'].unique()"
      ],
      "metadata": {
        "colab": {
          "base_uri": "https://localhost:8080/"
        },
        "id": "9zOd4bCYHUNt",
        "outputId": "c9aad77a-d125-4fe8-cdca-58a034b063cf"
      },
      "execution_count": null,
      "outputs": [
        {
          "output_type": "execute_result",
          "data": {
            "text/plain": [
              "array(['COLLEGE PARK', 'College Park'], dtype=object)"
            ]
          },
          "metadata": {},
          "execution_count": 56
        }
      ]
    },
    {
      "cell_type": "code",
      "source": [
        "#extracting year from Inspection_year\n",
        "df['Inspection_date']=pd.to_datetime(df['Inspection_date'])\n",
        "df['Inspection_year']=df['Inspection_date'].dt.year\n",
        "df['Inspection_year'].unique()"
      ],
      "metadata": {
        "colab": {
          "base_uri": "https://localhost:8080/"
        },
        "id": "oe-OFKd4T0hB",
        "outputId": "45f192b4-cd52-4fe1-eab7-a0b3a2457bf6"
      },
      "execution_count": null,
      "outputs": [
        {
          "output_type": "execute_result",
          "data": {
            "text/plain": [
              "array([2020, 2019, 2018, 2021, 2014, 2017, 2013, 2015, 2012, 2011, 2016])"
            ]
          },
          "metadata": {},
          "execution_count": 57
        }
      ]
    },
    {
      "cell_type": "code",
      "source": [
        "# grouping the data by Inspection_results and counting the data accordingly\n",
        "df2=pd.DataFrame(df.groupby(['Inspection_results'])['Establishment_id'].count().reset_index())\n",
        "df2.columns=['Inspection_results','count']\n",
        "df2['result_percent'] = (df2['count'] / \n",
        "                      df2['count'].sum()) * 100"
      ],
      "metadata": {
        "id": "GOIC46IoHhyl"
      },
      "execution_count": null,
      "outputs": []
    },
    {
      "cell_type": "code",
      "source": [
        "df2.head(10)"
      ],
      "metadata": {
        "colab": {
          "base_uri": "https://localhost:8080/",
          "height": 300
        },
        "id": "sLLuy0VFMnuF",
        "outputId": "a1414237-c90b-4101-8ebb-763189fa963d"
      },
      "execution_count": null,
      "outputs": [
        {
          "output_type": "execute_result",
          "data": {
            "text/plain": [
              "                    Inspection_results  count  result_percent\n",
              "0      Compliance Schedule - Completed    188       10.892236\n",
              "1    Compliance Schedule - Outstanding    312       18.076477\n",
              "2              Compliant - Health Risk      2        0.115875\n",
              "3           Compliant - No Health Risk    290       16.801854\n",
              "4         Critical Violations observed    596       34.530707\n",
              "5                      Facility Closed     19        1.100811\n",
              "6                    Facility Reopened      9        0.521437\n",
              "7  Non-Compliant - Violations Observed    310       17.960603"
            ],
            "text/html": [
              "\n",
              "  <div id=\"df-6f23eb71-d3aa-4349-92e4-275fe47b0772\">\n",
              "    <div class=\"colab-df-container\">\n",
              "      <div>\n",
              "<style scoped>\n",
              "    .dataframe tbody tr th:only-of-type {\n",
              "        vertical-align: middle;\n",
              "    }\n",
              "\n",
              "    .dataframe tbody tr th {\n",
              "        vertical-align: top;\n",
              "    }\n",
              "\n",
              "    .dataframe thead th {\n",
              "        text-align: right;\n",
              "    }\n",
              "</style>\n",
              "<table border=\"1\" class=\"dataframe\">\n",
              "  <thead>\n",
              "    <tr style=\"text-align: right;\">\n",
              "      <th></th>\n",
              "      <th>Inspection_results</th>\n",
              "      <th>count</th>\n",
              "      <th>result_percent</th>\n",
              "    </tr>\n",
              "  </thead>\n",
              "  <tbody>\n",
              "    <tr>\n",
              "      <th>0</th>\n",
              "      <td>Compliance Schedule - Completed</td>\n",
              "      <td>188</td>\n",
              "      <td>10.892236</td>\n",
              "    </tr>\n",
              "    <tr>\n",
              "      <th>1</th>\n",
              "      <td>Compliance Schedule - Outstanding</td>\n",
              "      <td>312</td>\n",
              "      <td>18.076477</td>\n",
              "    </tr>\n",
              "    <tr>\n",
              "      <th>2</th>\n",
              "      <td>Compliant - Health Risk</td>\n",
              "      <td>2</td>\n",
              "      <td>0.115875</td>\n",
              "    </tr>\n",
              "    <tr>\n",
              "      <th>3</th>\n",
              "      <td>Compliant - No Health Risk</td>\n",
              "      <td>290</td>\n",
              "      <td>16.801854</td>\n",
              "    </tr>\n",
              "    <tr>\n",
              "      <th>4</th>\n",
              "      <td>Critical Violations observed</td>\n",
              "      <td>596</td>\n",
              "      <td>34.530707</td>\n",
              "    </tr>\n",
              "    <tr>\n",
              "      <th>5</th>\n",
              "      <td>Facility Closed</td>\n",
              "      <td>19</td>\n",
              "      <td>1.100811</td>\n",
              "    </tr>\n",
              "    <tr>\n",
              "      <th>6</th>\n",
              "      <td>Facility Reopened</td>\n",
              "      <td>9</td>\n",
              "      <td>0.521437</td>\n",
              "    </tr>\n",
              "    <tr>\n",
              "      <th>7</th>\n",
              "      <td>Non-Compliant - Violations Observed</td>\n",
              "      <td>310</td>\n",
              "      <td>17.960603</td>\n",
              "    </tr>\n",
              "  </tbody>\n",
              "</table>\n",
              "</div>\n",
              "      <button class=\"colab-df-convert\" onclick=\"convertToInteractive('df-6f23eb71-d3aa-4349-92e4-275fe47b0772')\"\n",
              "              title=\"Convert this dataframe to an interactive table.\"\n",
              "              style=\"display:none;\">\n",
              "        \n",
              "  <svg xmlns=\"http://www.w3.org/2000/svg\" height=\"24px\"viewBox=\"0 0 24 24\"\n",
              "       width=\"24px\">\n",
              "    <path d=\"M0 0h24v24H0V0z\" fill=\"none\"/>\n",
              "    <path d=\"M18.56 5.44l.94 2.06.94-2.06 2.06-.94-2.06-.94-.94-2.06-.94 2.06-2.06.94zm-11 1L8.5 8.5l.94-2.06 2.06-.94-2.06-.94L8.5 2.5l-.94 2.06-2.06.94zm10 10l.94 2.06.94-2.06 2.06-.94-2.06-.94-.94-2.06-.94 2.06-2.06.94z\"/><path d=\"M17.41 7.96l-1.37-1.37c-.4-.4-.92-.59-1.43-.59-.52 0-1.04.2-1.43.59L10.3 9.45l-7.72 7.72c-.78.78-.78 2.05 0 2.83L4 21.41c.39.39.9.59 1.41.59.51 0 1.02-.2 1.41-.59l7.78-7.78 2.81-2.81c.8-.78.8-2.07 0-2.86zM5.41 20L4 18.59l7.72-7.72 1.47 1.35L5.41 20z\"/>\n",
              "  </svg>\n",
              "      </button>\n",
              "      \n",
              "  <style>\n",
              "    .colab-df-container {\n",
              "      display:flex;\n",
              "      flex-wrap:wrap;\n",
              "      gap: 12px;\n",
              "    }\n",
              "\n",
              "    .colab-df-convert {\n",
              "      background-color: #E8F0FE;\n",
              "      border: none;\n",
              "      border-radius: 50%;\n",
              "      cursor: pointer;\n",
              "      display: none;\n",
              "      fill: #1967D2;\n",
              "      height: 32px;\n",
              "      padding: 0 0 0 0;\n",
              "      width: 32px;\n",
              "    }\n",
              "\n",
              "    .colab-df-convert:hover {\n",
              "      background-color: #E2EBFA;\n",
              "      box-shadow: 0px 1px 2px rgba(60, 64, 67, 0.3), 0px 1px 3px 1px rgba(60, 64, 67, 0.15);\n",
              "      fill: #174EA6;\n",
              "    }\n",
              "\n",
              "    [theme=dark] .colab-df-convert {\n",
              "      background-color: #3B4455;\n",
              "      fill: #D2E3FC;\n",
              "    }\n",
              "\n",
              "    [theme=dark] .colab-df-convert:hover {\n",
              "      background-color: #434B5C;\n",
              "      box-shadow: 0px 1px 3px 1px rgba(0, 0, 0, 0.15);\n",
              "      filter: drop-shadow(0px 1px 2px rgba(0, 0, 0, 0.3));\n",
              "      fill: #FFFFFF;\n",
              "    }\n",
              "  </style>\n",
              "\n",
              "      <script>\n",
              "        const buttonEl =\n",
              "          document.querySelector('#df-6f23eb71-d3aa-4349-92e4-275fe47b0772 button.colab-df-convert');\n",
              "        buttonEl.style.display =\n",
              "          google.colab.kernel.accessAllowed ? 'block' : 'none';\n",
              "\n",
              "        async function convertToInteractive(key) {\n",
              "          const element = document.querySelector('#df-6f23eb71-d3aa-4349-92e4-275fe47b0772');\n",
              "          const dataTable =\n",
              "            await google.colab.kernel.invokeFunction('convertToInteractive',\n",
              "                                                     [key], {});\n",
              "          if (!dataTable) return;\n",
              "\n",
              "          const docLinkHtml = 'Like what you see? Visit the ' +\n",
              "            '<a target=\"_blank\" href=https://colab.research.google.com/notebooks/data_table.ipynb>data table notebook</a>'\n",
              "            + ' to learn more about interactive tables.';\n",
              "          element.innerHTML = '';\n",
              "          dataTable['output_type'] = 'display_data';\n",
              "          await google.colab.output.renderOutput(dataTable, element);\n",
              "          const docLink = document.createElement('div');\n",
              "          docLink.innerHTML = docLinkHtml;\n",
              "          element.appendChild(docLink);\n",
              "        }\n",
              "      </script>\n",
              "    </div>\n",
              "  </div>\n",
              "  "
            ]
          },
          "metadata": {},
          "execution_count": 64
        }
      ]
    },
    {
      "cell_type": "code",
      "source": [
        "# plotting barplot for Inspection_results\n",
        "plt.figure(figsize=(28,8))\n",
        "sns.barplot(x='Inspection_results',y='count',data = df2,errwidth=0)"
      ],
      "metadata": {
        "colab": {
          "base_uri": "https://localhost:8080/",
          "height": 443
        },
        "id": "cB80fF8nABSi",
        "outputId": "d6cdf71a-4bf3-4cda-b3de-9c717f999e6a"
      },
      "execution_count": null,
      "outputs": [
        {
          "output_type": "execute_result",
          "data": {
            "text/plain": [
              "<Axes: xlabel='Inspection_results', ylabel='count'>"
            ]
          },
          "metadata": {},
          "execution_count": 65
        },
        {
          "output_type": "display_data",
          "data": {
            "text/plain": [
              "<Figure size 2800x800 with 1 Axes>"
            ],
            "image/png": "[encoded data removed]"
          },
          "metadata": {}
        }
      ]
    },
    {
      "cell_type": "code",
      "source": [
        "# grouping the data by Inspection_results and category and counting the data accordingly\n",
        "df3=pd.DataFrame(df.groupby(['Inspection_results','Category'])['Establishment_id'].count().reset_index())\n",
        "df3.columns=['Inspection_results','Category','count']\n",
        "\n",
        "# limiting the data to Critical Violations observed\n",
        "df3=df3[df3['Inspection_results']=='Critical Violations observed']\n",
        "df3.sort_values('count',ascending=False,inplace=True)\n",
        "df3=df3.head(10)\n",
        "df3['category_percent'] = (df3['count'] / \n",
        "                      df3['count'].sum()) * 100\n",
        "df3.head(10)\n"
      ],
      "metadata": {
        "colab": {
          "base_uri": "https://localhost:8080/",
          "height": 363
        },
        "id": "zynm-bWzEmQB",
        "outputId": "e8342779-15aa-4102-9971-65c4c5d95a57"
      },
      "execution_count": null,
      "outputs": [
        {
          "output_type": "execute_result",
          "data": {
            "text/plain": [
              "              Inspection_results                    Category  count  \\\n",
              "87  Critical Violations observed                Full Service    217   \n",
              "81  Critical Violations observed          College/University    120   \n",
              "83  Critical Violations observed                   Fast Food     54   \n",
              "78  Critical Violations observed                   Carry-out     50   \n",
              "82  Critical Violations observed           Convenience Store     40   \n",
              "90  Critical Violations observed                       Hotel     16   \n",
              "89  Critical Violations observed               Grocery Store     16   \n",
              "95  Critical Violations observed                  Restaurant     15   \n",
              "84  Critical Violations observed           Fast Food - Chain     11   \n",
              "96  Critical Violations observed  Snack Bar/Concession Stand      7   \n",
              "\n",
              "    category_percent  \n",
              "87         39.743590  \n",
              "81         21.978022  \n",
              "83          9.890110  \n",
              "78          9.157509  \n",
              "82          7.326007  \n",
              "90          2.930403  \n",
              "89          2.930403  \n",
              "95          2.747253  \n",
              "84          2.014652  \n",
              "96          1.282051  "
            ],
            "text/html": [
              "\n",
              "  <div id=\"df-2802d8c7-fa70-47a0-aaba-42049513478c\">\n",
              "    <div class=\"colab-df-container\">\n",
              "      <div>\n",
              "<style scoped>\n",
              "    .dataframe tbody tr th:only-of-type {\n",
              "        vertical-align: middle;\n",
              "    }\n",
              "\n",
              "    .dataframe tbody tr th {\n",
              "        vertical-align: top;\n",
              "    }\n",
              "\n",
              "    .dataframe thead th {\n",
              "        text-align: right;\n",
              "    }\n",
              "</style>\n",
              "<table border=\"1\" class=\"dataframe\">\n",
              "  <thead>\n",
              "    <tr style=\"text-align: right;\">\n",
              "      <th></th>\n",
              "      <th>Inspection_results</th>\n",
              "      <th>Category</th>\n",
              "      <th>count</th>\n",
              "      <th>category_percent</th>\n",
              "    </tr>\n",
              "  </thead>\n",
              "  <tbody>\n",
              "    <tr>\n",
              "      <th>87</th>\n",
              "      <td>Critical Violations observed</td>\n",
              "      <td>Full Service</td>\n",
              "      <td>217</td>\n",
              "      <td>39.743590</td>\n",
              "    </tr>\n",
              "    <tr>\n",
              "      <th>81</th>\n",
              "      <td>Critical Violations observed</td>\n",
              "      <td>College/University</td>\n",
              "      <td>120</td>\n",
              "      <td>21.978022</td>\n",
              "    </tr>\n",
              "    <tr>\n",
              "      <th>83</th>\n",
              "      <td>Critical Violations observed</td>\n",
              "      <td>Fast Food</td>\n",
              "      <td>54</td>\n",
              "      <td>9.890110</td>\n",
              "    </tr>\n",
              "    <tr>\n",
              "      <th>78</th>\n",
              "      <td>Critical Violations observed</td>\n",
              "      <td>Carry-out</td>\n",
              "      <td>50</td>\n",
              "      <td>9.157509</td>\n",
              "    </tr>\n",
              "    <tr>\n",
              "      <th>82</th>\n",
              "      <td>Critical Violations observed</td>\n",
              "      <td>Convenience Store</td>\n",
              "      <td>40</td>\n",
              "      <td>7.326007</td>\n",
              "    </tr>\n",
              "    <tr>\n",
              "      <th>90</th>\n",
              "      <td>Critical Violations observed</td>\n",
              "      <td>Hotel</td>\n",
              "      <td>16</td>\n",
              "      <td>2.930403</td>\n",
              "    </tr>\n",
              "    <tr>\n",
              "      <th>89</th>\n",
              "      <td>Critical Violations observed</td>\n",
              "      <td>Grocery Store</td>\n",
              "      <td>16</td>\n",
              "      <td>2.930403</td>\n",
              "    </tr>\n",
              "    <tr>\n",
              "      <th>95</th>\n",
              "      <td>Critical Violations observed</td>\n",
              "      <td>Restaurant</td>\n",
              "      <td>15</td>\n",
              "      <td>2.747253</td>\n",
              "    </tr>\n",
              "    <tr>\n",
              "      <th>84</th>\n",
              "      <td>Critical Violations observed</td>\n",
              "      <td>Fast Food - Chain</td>\n",
              "      <td>11</td>\n",
              "      <td>2.014652</td>\n",
              "    </tr>\n",
              "    <tr>\n",
              "      <th>96</th>\n",
              "      <td>Critical Violations observed</td>\n",
              "      <td>Snack Bar/Concession Stand</td>\n",
              "      <td>7</td>\n",
              "      <td>1.282051</td>\n",
              "    </tr>\n",
              "  </tbody>\n",
              "</table>\n",
              "</div>\n",
              "      <button class=\"colab-df-convert\" onclick=\"convertToInteractive('df-2802d8c7-fa70-47a0-aaba-42049513478c')\"\n",
              "              title=\"Convert this dataframe to an interactive table.\"\n",
              "              style=\"display:none;\">\n",
              "        \n",
              "  <svg xmlns=\"http://www.w3.org/2000/svg\" height=\"24px\"viewBox=\"0 0 24 24\"\n",
              "       width=\"24px\">\n",
              "    <path d=\"M0 0h24v24H0V0z\" fill=\"none\"/>\n",
              "    <path d=\"M18.56 5.44l.94 2.06.94-2.06 2.06-.94-2.06-.94-.94-2.06-.94 2.06-2.06.94zm-11 1L8.5 8.5l.94-2.06 2.06-.94-2.06-.94L8.5 2.5l-.94 2.06-2.06.94zm10 10l.94 2.06.94-2.06 2.06-.94-2.06-.94-.94-2.06-.94 2.06-2.06.94z\"/><path d=\"M17.41 7.96l-1.37-1.37c-.4-.4-.92-.59-1.43-.59-.52 0-1.04.2-1.43.59L10.3 9.45l-7.72 7.72c-.78.78-.78 2.05 0 2.83L4 21.41c.39.39.9.59 1.41.59.51 0 1.02-.2 1.41-.59l7.78-7.78 2.81-2.81c.8-.78.8-2.07 0-2.86zM5.41 20L4 18.59l7.72-7.72 1.47 1.35L5.41 20z\"/>\n",
              "  </svg>\n",
              "      </button>\n",
              "      \n",
              "  <style>\n",
              "    .colab-df-container {\n",
              "      display:flex;\n",
              "      flex-wrap:wrap;\n",
              "      gap: 12px;\n",
              "    }\n",
              "\n",
              "    .colab-df-convert {\n",
              "      background-color: #E8F0FE;\n",
              "      border: none;\n",
              "      border-radius: 50%;\n",
              "      cursor: pointer;\n",
              "      display: none;\n",
              "      fill: #1967D2;\n",
              "      height: 32px;\n",
              "      padding: 0 0 0 0;\n",
              "      width: 32px;\n",
              "    }\n",
              "\n",
              "    .colab-df-convert:hover {\n",
              "      background-color: #E2EBFA;\n",
              "      box-shadow: 0px 1px 2px rgba(60, 64, 67, 0.3), 0px 1px 3px 1px rgba(60, 64, 67, 0.15);\n",
              "      fill: #174EA6;\n",
              "    }\n",
              "\n",
              "    [theme=dark] .colab-df-convert {\n",
              "      background-color: #3B4455;\n",
              "      fill: #D2E3FC;\n",
              "    }\n",
              "\n",
              "    [theme=dark] .colab-df-convert:hover {\n",
              "      background-color: #434B5C;\n",
              "      box-shadow: 0px 1px 3px 1px rgba(0, 0, 0, 0.15);\n",
              "      filter: drop-shadow(0px 1px 2px rgba(0, 0, 0, 0.3));\n",
              "      fill: #FFFFFF;\n",
              "    }\n",
              "  </style>\n",
              "\n",
              "      <script>\n",
              "        const buttonEl =\n",
              "          document.querySelector('#df-2802d8c7-fa70-47a0-aaba-42049513478c button.colab-df-convert');\n",
              "        buttonEl.style.display =\n",
              "          google.colab.kernel.accessAllowed ? 'block' : 'none';\n",
              "\n",
              "        async function convertToInteractive(key) {\n",
              "          const element = document.querySelector('#df-2802d8c7-fa70-47a0-aaba-42049513478c');\n",
              "          const dataTable =\n",
              "            await google.colab.kernel.invokeFunction('convertToInteractive',\n",
              "                                                     [key], {});\n",
              "          if (!dataTable) return;\n",
              "\n",
              "          const docLinkHtml = 'Like what you see? Visit the ' +\n",
              "            '<a target=\"_blank\" href=https://colab.research.google.com/notebooks/data_table.ipynb>data table notebook</a>'\n",
              "            + ' to learn more about interactive tables.';\n",
              "          element.innerHTML = '';\n",
              "          dataTable['output_type'] = 'display_data';\n",
              "          await google.colab.output.renderOutput(dataTable, element);\n",
              "          const docLink = document.createElement('div');\n",
              "          docLink.innerHTML = docLinkHtml;\n",
              "          element.appendChild(docLink);\n",
              "        }\n",
              "      </script>\n",
              "    </div>\n",
              "  </div>\n",
              "  "
            ]
          },
          "metadata": {},
          "execution_count": 66
        }
      ]
    },
    {
      "cell_type": "code",
      "source": [
        "# plotting barplot for category with Inspection_results=Critical Violations observed\n",
        "plt.figure(figsize=(25,8))\n",
        "sns.barplot(x='Category',y='count',data = df3,errwidth=0)\n"
      ],
      "metadata": {
        "colab": {
          "base_uri": "https://localhost:8080/",
          "height": 388
        },
        "id": "0ZveDhwRQl4a",
        "outputId": "7687b9f3-d63c-4d9d-b00e-aa381a5ad515"
      },
      "execution_count": null,
      "outputs": [
        {
          "output_type": "execute_result",
          "data": {
            "text/plain": [
              "<Axes: xlabel='Category', ylabel='count'>"
            ]
          },
          "metadata": {},
          "execution_count": 142
        },
        {
          "output_type": "display_data",
          "data": {
            "text/plain": [
              "<Figure size 2500x800 with 1 Axes>"
            ],
            "image/png": "[encoded data removed]"
          },
          "metadata": {}
        }
      ]
    },
    {
      "cell_type": "code",
      "source": [
        "df4=pd.DataFrame(df.groupby(['Inspection_results','Inspection_year'])['Establishment_id'].count().reset_index())\n",
        "df4.columns=['Inspection_results','Inspection_year','count']\n",
        "\n",
        "df4=df4[df4['Inspection_results']=='Critical Violations observed']\n",
        "df4.sort_values('count',ascending=False,inplace=True)\n",
        "\n",
        "df4=df4[df4['Inspection_results']=='Critical Violations observed']\n",
        "\n",
        "\n",
        "plt.figure(figsize=(28,8))\n",
        "sns.lineplot(x='Inspection_year',y='count',data = df4)"
      ],
      "metadata": {
        "colab": {
          "base_uri": "https://localhost:8080/",
          "height": 352
        },
        "id": "uw22CcYfQslp",
        "outputId": "60332912-4443-4a68-f171-ec82d00ec90c"
      },
      "execution_count": null,
      "outputs": [
        {
          "output_type": "execute_result",
          "data": {
            "text/plain": [
              "<Axes: xlabel='Inspection_year', ylabel='count'>"
            ]
          },
          "metadata": {},
          "execution_count": 144
        },
        {
          "output_type": "display_data",
          "data": {
            "text/plain": [
              "<Figure size 2800x800 with 1 Axes>"
            ],
            "image/png": "[encoded data removed]"
          },
          "metadata": {}
        }
      ]
    },
    {
      "cell_type": "code",
      "source": [
        "df5=pd.DataFrame(df.groupby(['Inspection_results','Inspection_type'])['Establishment_id'].count().reset_index())\n",
        "df5.columns=['Inspection_results','Inspection_type','count']\n",
        "df5=df5[df5['Inspection_results']=='Critical Violations observed']\n",
        "df5.sort_values('count',ascending=False,inplace=True)\n",
        "df5=df5.head(10)"
      ],
      "metadata": {
        "id": "uNKPPdZUX9BQ"
      },
      "execution_count": null,
      "outputs": []
    },
    {
      "cell_type": "code",
      "source": [
        "plt.figure(figsize=(28,8))\n",
        "sns.barplot(x='Inspection_type',y='count',data = df5,errwidth=0)"
      ],
      "metadata": {
        "colab": {
          "base_uri": "https://localhost:8080/",
          "height": 352
        },
        "id": "gIq_-ox_TU2a",
        "outputId": "495c6555-02d4-4990-e827-93a7893c2253"
      },
      "execution_count": null,
      "outputs": [
        {
          "output_type": "execute_result",
          "data": {
            "text/plain": [
              "<Axes: xlabel='Inspection_type', ylabel='count'>"
            ]
          },
          "metadata": {},
          "execution_count": 147
        },
        {
          "output_type": "display_data",
          "data": {
            "text/plain": [
              "<Figure size 2800x800 with 1 Axes>"
            ],
            "image/png": "[encoded data removed]"
          },
          "metadata": {}
        }
      ]
    },
    {
      "cell_type": "markdown",
      "source": [
        "Most of the eating places in the PG county between 2013 to 2021  were reported having critical food violations according to the data obatined by diamondback. According to the reported data, about 34.5% of the places violated the regulations. Among all the eating places, full-service restaurants voilated most of the codes with most undergoning comphrehensive inspection. However, on the brigter side, the number of restaurants with such violations have been  drastically decreasing over the years, indicating that restaurant owners have started adpoting these codes."
      ],
      "metadata": {
        "id": "frEvLoETljo8"
      }
    }
  ]
}